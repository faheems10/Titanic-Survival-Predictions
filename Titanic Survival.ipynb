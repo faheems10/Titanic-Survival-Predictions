{
 "cells": [
  {
   "cell_type": "code",
   "execution_count": 1,
   "metadata": {
    "execution": {
     "iopub.execute_input": "2022-03-14T06:26:56.803029Z",
     "iopub.status.busy": "2022-03-14T06:26:56.800998Z",
     "iopub.status.idle": "2022-03-14T06:26:57.969960Z",
     "shell.execute_reply": "2022-03-14T06:26:57.969243Z",
     "shell.execute_reply.started": "2022-03-14T06:25:31.540141Z"
    },
    "papermill": {
     "duration": 1.233248,
     "end_time": "2022-03-14T06:26:57.970144",
     "exception": false,
     "start_time": "2022-03-14T06:26:56.736896",
     "status": "completed"
    },
    "tags": []
   },
   "outputs": [],
   "source": [
    "import numpy as np\n",
    "import pandas as pd \n",
    "import matplotlib.pyplot as plt\n",
    "from sklearn.preprocessing import StandardScaler\n",
    "import seaborn as sns\n",
    "from sklearn.model_selection import train_test_split"
   ]
  },
  {
   "cell_type": "markdown",
   "metadata": {
    "papermill": {
     "duration": 0.05925,
     "end_time": "2022-03-14T06:26:58.087764",
     "exception": false,
     "start_time": "2022-03-14T06:26:58.028514",
     "status": "completed"
    },
    "tags": []
   },
   "source": [
    "## Import dataset"
   ]
  },
  {
   "cell_type": "code",
   "execution_count": 3,
   "metadata": {
    "execution": {
     "iopub.execute_input": "2022-03-14T06:26:58.210840Z",
     "iopub.status.busy": "2022-03-14T06:26:58.209818Z",
     "iopub.status.idle": "2022-03-14T06:26:58.234739Z",
     "shell.execute_reply": "2022-03-14T06:26:58.235281Z",
     "shell.execute_reply.started": "2022-03-14T06:25:31.552668Z"
    },
    "papermill": {
     "duration": 0.089064,
     "end_time": "2022-03-14T06:26:58.235520",
     "exception": false,
     "start_time": "2022-03-14T06:26:58.146456",
     "status": "completed"
    },
    "tags": []
   },
   "outputs": [],
   "source": [
    "titanic_train = pd.read_csv('train.csv')\n",
    "titanic_test = pd.read_csv('test.csv')"
   ]
  },
  {
   "cell_type": "code",
   "execution_count": 3,
   "metadata": {
    "execution": {
     "iopub.execute_input": "2022-03-14T06:26:58.357745Z",
     "iopub.status.busy": "2022-03-14T06:26:58.356611Z",
     "iopub.status.idle": "2022-03-14T06:26:58.361081Z",
     "shell.execute_reply": "2022-03-14T06:26:58.361691Z",
     "shell.execute_reply.started": "2022-03-14T06:25:31.574969Z"
    },
    "papermill": {
     "duration": 0.067005,
     "end_time": "2022-03-14T06:26:58.361881",
     "exception": false,
     "start_time": "2022-03-14T06:26:58.294876",
     "status": "completed"
    },
    "tags": []
   },
   "outputs": [],
   "source": [
    "X = titanic_train"
   ]
  },
  {
   "cell_type": "code",
   "execution_count": 4,
   "metadata": {
    "execution": {
     "iopub.execute_input": "2022-03-14T06:26:58.488197Z",
     "iopub.status.busy": "2022-03-14T06:26:58.487532Z",
     "iopub.status.idle": "2022-03-14T06:26:58.502543Z",
     "shell.execute_reply": "2022-03-14T06:26:58.503368Z",
     "shell.execute_reply.started": "2022-03-14T06:25:31.580100Z"
    },
    "papermill": {
     "duration": 0.083712,
     "end_time": "2022-03-14T06:26:58.503696",
     "exception": false,
     "start_time": "2022-03-14T06:26:58.419984",
     "status": "completed"
    },
    "tags": []
   },
   "outputs": [],
   "source": [
    "females = X['Sex'].loc[X['Sex']==\"female\"].count()\n",
    "males = X[\"Sex\"].count()-females"
   ]
  },
  {
   "cell_type": "markdown",
   "metadata": {
    "papermill": {
     "duration": 0.058604,
     "end_time": "2022-03-14T06:26:58.642241",
     "exception": false,
     "start_time": "2022-03-14T06:26:58.583637",
     "status": "completed"
    },
    "tags": []
   },
   "source": [
    "## Fill in null values for test set"
   ]
  },
  {
   "cell_type": "code",
   "execution_count": 5,
   "metadata": {
    "execution": {
     "iopub.execute_input": "2022-03-14T06:26:58.764808Z",
     "iopub.status.busy": "2022-03-14T06:26:58.764115Z",
     "iopub.status.idle": "2022-03-14T06:26:58.776768Z",
     "shell.execute_reply": "2022-03-14T06:26:58.777432Z",
     "shell.execute_reply.started": "2022-03-14T06:25:31.595430Z"
    },
    "papermill": {
     "duration": 0.074823,
     "end_time": "2022-03-14T06:26:58.777624",
     "exception": false,
     "start_time": "2022-03-14T06:26:58.702801",
     "status": "completed"
    },
    "tags": []
   },
   "outputs": [
    {
     "data": {
      "text/plain": [
       "PassengerId      0\n",
       "Pclass           0\n",
       "Name             0\n",
       "Sex              0\n",
       "Age             86\n",
       "SibSp            0\n",
       "Parch            0\n",
       "Ticket           0\n",
       "Fare             1\n",
       "Cabin          327\n",
       "Embarked         0\n",
       "dtype: int64"
      ]
     },
     "execution_count": 5,
     "metadata": {},
     "output_type": "execute_result"
    }
   ],
   "source": [
    "Xtest = titanic_test\n",
    "Xtest.isna().sum()"
   ]
  },
  {
   "cell_type": "code",
   "execution_count": 6,
   "metadata": {
    "execution": {
     "iopub.execute_input": "2022-03-14T06:26:58.899956Z",
     "iopub.status.busy": "2022-03-14T06:26:58.899195Z",
     "iopub.status.idle": "2022-03-14T06:26:58.905116Z",
     "shell.execute_reply": "2022-03-14T06:26:58.905746Z",
     "shell.execute_reply.started": "2022-03-14T06:25:31.610790Z"
    },
    "papermill": {
     "duration": 0.068962,
     "end_time": "2022-03-14T06:26:58.905952",
     "exception": false,
     "start_time": "2022-03-14T06:26:58.836990",
     "status": "completed"
    },
    "tags": []
   },
   "outputs": [],
   "source": [
    "def fillData(df,feature,parameter):\n",
    "    if parameter == \"median\":\n",
    "        df[feature] = df[feature].fillna(np.median(df[feature]))\n",
    "    elif parameter == \"mean\":\n",
    "        df[feature] = df[feature].fillna(df[feature].mean())\n",
    "    else:\n",
    "        df[feature] = df[feature].fillna(0)"
   ]
  },
  {
   "cell_type": "code",
   "execution_count": 7,
   "metadata": {
    "execution": {
     "iopub.execute_input": "2022-03-14T06:26:59.027953Z",
     "iopub.status.busy": "2022-03-14T06:26:59.027182Z",
     "iopub.status.idle": "2022-03-14T06:26:59.056513Z",
     "shell.execute_reply": "2022-03-14T06:26:59.057108Z",
     "shell.execute_reply.started": "2022-03-14T06:25:31.619114Z"
    },
    "papermill": {
     "duration": 0.092054,
     "end_time": "2022-03-14T06:26:59.057305",
     "exception": false,
     "start_time": "2022-03-14T06:26:58.965251",
     "status": "completed"
    },
    "tags": []
   },
   "outputs": [],
   "source": [
    "par = 0\n",
    "fillData(X,\"Age\",par)\n",
    "fillData(Xtest,\"Age\",par)\n",
    "fillData(X,\"Fare\",par)\n",
    "fillData(Xtest,\"Fare\",par)\n",
    "# fillData(X,\"Embarked\",par)\n",
    "# fillData(Xtest,\"Embarked\",par)\n",
    "X.dropna(subset= [\"Embarked\"],inplace = True)\n",
    "Xtest.dropna(subset= [\"Embarked\"],inplace = True)"
   ]
  },
  {
   "cell_type": "code",
   "execution_count": 8,
   "metadata": {
    "execution": {
     "iopub.execute_input": "2022-03-14T06:26:59.178113Z",
     "iopub.status.busy": "2022-03-14T06:26:59.177430Z",
     "iopub.status.idle": "2022-03-14T06:26:59.186945Z",
     "shell.execute_reply": "2022-03-14T06:26:59.187475Z",
     "shell.execute_reply.started": "2022-03-14T06:25:31.643359Z"
    },
    "papermill": {
     "duration": 0.07184,
     "end_time": "2022-03-14T06:26:59.187677",
     "exception": false,
     "start_time": "2022-03-14T06:26:59.115837",
     "status": "completed"
    },
    "tags": []
   },
   "outputs": [
    {
     "data": {
      "text/plain": [
       "PassengerId      0\n",
       "Survived         0\n",
       "Pclass           0\n",
       "Name             0\n",
       "Sex              0\n",
       "Age              0\n",
       "SibSp            0\n",
       "Parch            0\n",
       "Ticket           0\n",
       "Fare             0\n",
       "Cabin          687\n",
       "Embarked         0\n",
       "dtype: int64"
      ]
     },
     "execution_count": 8,
     "metadata": {},
     "output_type": "execute_result"
    }
   ],
   "source": [
    "X.isnull().sum()"
   ]
  },
  {
   "cell_type": "code",
   "execution_count": 9,
   "metadata": {
    "execution": {
     "iopub.execute_input": "2022-03-14T06:26:59.311347Z",
     "iopub.status.busy": "2022-03-14T06:26:59.310642Z",
     "iopub.status.idle": "2022-03-14T06:26:59.318593Z",
     "shell.execute_reply": "2022-03-14T06:26:59.319189Z",
     "shell.execute_reply.started": "2022-03-14T06:25:31.656788Z"
    },
    "papermill": {
     "duration": 0.071666,
     "end_time": "2022-03-14T06:26:59.319401",
     "exception": false,
     "start_time": "2022-03-14T06:26:59.247735",
     "status": "completed"
    },
    "tags": []
   },
   "outputs": [
    {
     "data": {
      "text/plain": [
       "PassengerId      0\n",
       "Pclass           0\n",
       "Name             0\n",
       "Sex              0\n",
       "Age              0\n",
       "SibSp            0\n",
       "Parch            0\n",
       "Ticket           0\n",
       "Fare             0\n",
       "Cabin          327\n",
       "Embarked         0\n",
       "dtype: int64"
      ]
     },
     "execution_count": 9,
     "metadata": {},
     "output_type": "execute_result"
    }
   ],
   "source": [
    "Xtest.isnull().sum()"
   ]
  },
  {
   "cell_type": "code",
   "execution_count": 10,
   "metadata": {
    "execution": {
     "iopub.execute_input": "2022-03-14T06:26:59.441032Z",
     "iopub.status.busy": "2022-03-14T06:26:59.440313Z",
     "iopub.status.idle": "2022-03-14T06:26:59.446656Z",
     "shell.execute_reply": "2022-03-14T06:26:59.447229Z",
     "shell.execute_reply.started": "2022-03-14T06:25:31.666152Z"
    },
    "papermill": {
     "duration": 0.06844,
     "end_time": "2022-03-14T06:26:59.447434",
     "exception": false,
     "start_time": "2022-03-14T06:26:59.378994",
     "status": "completed"
    },
    "tags": []
   },
   "outputs": [],
   "source": [
    "Xtest['fare_class'] = Xtest['Fare']/Xtest['Pclass']\n",
    "Xtest['Family'] = Xtest['Parch'] + Xtest['SibSp']"
   ]
  },
  {
   "cell_type": "code",
   "execution_count": 11,
   "metadata": {
    "execution": {
     "iopub.execute_input": "2022-03-14T06:26:59.571522Z",
     "iopub.status.busy": "2022-03-14T06:26:59.570779Z",
     "iopub.status.idle": "2022-03-14T06:26:59.578091Z",
     "shell.execute_reply": "2022-03-14T06:26:59.578683Z",
     "shell.execute_reply.started": "2022-03-14T06:25:31.680294Z"
    },
    "papermill": {
     "duration": 0.070872,
     "end_time": "2022-03-14T06:26:59.578926",
     "exception": false,
     "start_time": "2022-03-14T06:26:59.508054",
     "status": "completed"
    },
    "tags": []
   },
   "outputs": [],
   "source": [
    "Xtest.drop(columns=['Cabin','Name','Ticket'],inplace=True)\n",
    "X.drop(columns = ['Cabin','Name','Ticket'],inplace=True)"
   ]
  },
  {
   "cell_type": "code",
   "execution_count": 12,
   "metadata": {
    "execution": {
     "iopub.execute_input": "2022-03-14T06:26:59.701718Z",
     "iopub.status.busy": "2022-03-14T06:26:59.700942Z",
     "iopub.status.idle": "2022-03-14T06:26:59.704033Z",
     "shell.execute_reply": "2022-03-14T06:26:59.704614Z",
     "shell.execute_reply.started": "2022-03-14T06:25:31.690554Z"
    },
    "papermill": {
     "duration": 0.06582,
     "end_time": "2022-03-14T06:26:59.704805",
     "exception": false,
     "start_time": "2022-03-14T06:26:59.638985",
     "status": "completed"
    },
    "tags": []
   },
   "outputs": [],
   "source": [
    "# Xtest = pd.get_dummies(Xtest)\n",
    "# Xtest.head()"
   ]
  },
  {
   "cell_type": "markdown",
   "metadata": {
    "papermill": {
     "duration": 0.058363,
     "end_time": "2022-03-14T06:26:59.824286",
     "exception": false,
     "start_time": "2022-03-14T06:26:59.765923",
     "status": "completed"
    },
    "tags": []
   },
   "source": [
    "## Check count of data"
   ]
  },
  {
   "cell_type": "code",
   "execution_count": 13,
   "metadata": {
    "execution": {
     "iopub.execute_input": "2022-03-14T06:26:59.952035Z",
     "iopub.status.busy": "2022-03-14T06:26:59.951247Z",
     "iopub.status.idle": "2022-03-14T06:26:59.986105Z",
     "shell.execute_reply": "2022-03-14T06:26:59.986647Z",
     "shell.execute_reply.started": "2022-03-14T06:25:31.702609Z"
    },
    "papermill": {
     "duration": 0.104085,
     "end_time": "2022-03-14T06:26:59.986840",
     "exception": false,
     "start_time": "2022-03-14T06:26:59.882755",
     "status": "completed"
    },
    "tags": []
   },
   "outputs": [
    {
     "data": {
      "text/html": [
       "<div>\n",
       "<style scoped>\n",
       "    .dataframe tbody tr th:only-of-type {\n",
       "        vertical-align: middle;\n",
       "    }\n",
       "\n",
       "    .dataframe tbody tr th {\n",
       "        vertical-align: top;\n",
       "    }\n",
       "\n",
       "    .dataframe thead th {\n",
       "        text-align: right;\n",
       "    }\n",
       "</style>\n",
       "<table border=\"1\" class=\"dataframe\">\n",
       "  <thead>\n",
       "    <tr style=\"text-align: right;\">\n",
       "      <th></th>\n",
       "      <th>PassengerId</th>\n",
       "      <th>Survived</th>\n",
       "      <th>Pclass</th>\n",
       "      <th>Age</th>\n",
       "      <th>SibSp</th>\n",
       "      <th>Parch</th>\n",
       "      <th>Fare</th>\n",
       "    </tr>\n",
       "  </thead>\n",
       "  <tbody>\n",
       "    <tr>\n",
       "      <th>count</th>\n",
       "      <td>889.000000</td>\n",
       "      <td>889.000000</td>\n",
       "      <td>889.000000</td>\n",
       "      <td>889.000000</td>\n",
       "      <td>889.000000</td>\n",
       "      <td>889.000000</td>\n",
       "      <td>889.000000</td>\n",
       "    </tr>\n",
       "    <tr>\n",
       "      <th>mean</th>\n",
       "      <td>446.000000</td>\n",
       "      <td>0.382452</td>\n",
       "      <td>2.311586</td>\n",
       "      <td>23.740349</td>\n",
       "      <td>0.524184</td>\n",
       "      <td>0.382452</td>\n",
       "      <td>32.096681</td>\n",
       "    </tr>\n",
       "    <tr>\n",
       "      <th>std</th>\n",
       "      <td>256.998173</td>\n",
       "      <td>0.486260</td>\n",
       "      <td>0.834700</td>\n",
       "      <td>17.562609</td>\n",
       "      <td>1.103705</td>\n",
       "      <td>0.806761</td>\n",
       "      <td>49.697504</td>\n",
       "    </tr>\n",
       "    <tr>\n",
       "      <th>min</th>\n",
       "      <td>1.000000</td>\n",
       "      <td>0.000000</td>\n",
       "      <td>1.000000</td>\n",
       "      <td>0.000000</td>\n",
       "      <td>0.000000</td>\n",
       "      <td>0.000000</td>\n",
       "      <td>0.000000</td>\n",
       "    </tr>\n",
       "    <tr>\n",
       "      <th>25%</th>\n",
       "      <td>224.000000</td>\n",
       "      <td>0.000000</td>\n",
       "      <td>2.000000</td>\n",
       "      <td>6.000000</td>\n",
       "      <td>0.000000</td>\n",
       "      <td>0.000000</td>\n",
       "      <td>7.895800</td>\n",
       "    </tr>\n",
       "    <tr>\n",
       "      <th>50%</th>\n",
       "      <td>446.000000</td>\n",
       "      <td>0.000000</td>\n",
       "      <td>3.000000</td>\n",
       "      <td>24.000000</td>\n",
       "      <td>0.000000</td>\n",
       "      <td>0.000000</td>\n",
       "      <td>14.454200</td>\n",
       "    </tr>\n",
       "    <tr>\n",
       "      <th>75%</th>\n",
       "      <td>668.000000</td>\n",
       "      <td>1.000000</td>\n",
       "      <td>3.000000</td>\n",
       "      <td>35.000000</td>\n",
       "      <td>1.000000</td>\n",
       "      <td>0.000000</td>\n",
       "      <td>31.000000</td>\n",
       "    </tr>\n",
       "    <tr>\n",
       "      <th>max</th>\n",
       "      <td>891.000000</td>\n",
       "      <td>1.000000</td>\n",
       "      <td>3.000000</td>\n",
       "      <td>80.000000</td>\n",
       "      <td>8.000000</td>\n",
       "      <td>6.000000</td>\n",
       "      <td>512.329200</td>\n",
       "    </tr>\n",
       "  </tbody>\n",
       "</table>\n",
       "</div>"
      ],
      "text/plain": [
       "       PassengerId    Survived      Pclass         Age       SibSp  \\\n",
       "count   889.000000  889.000000  889.000000  889.000000  889.000000   \n",
       "mean    446.000000    0.382452    2.311586   23.740349    0.524184   \n",
       "std     256.998173    0.486260    0.834700   17.562609    1.103705   \n",
       "min       1.000000    0.000000    1.000000    0.000000    0.000000   \n",
       "25%     224.000000    0.000000    2.000000    6.000000    0.000000   \n",
       "50%     446.000000    0.000000    3.000000   24.000000    0.000000   \n",
       "75%     668.000000    1.000000    3.000000   35.000000    1.000000   \n",
       "max     891.000000    1.000000    3.000000   80.000000    8.000000   \n",
       "\n",
       "            Parch        Fare  \n",
       "count  889.000000  889.000000  \n",
       "mean     0.382452   32.096681  \n",
       "std      0.806761   49.697504  \n",
       "min      0.000000    0.000000  \n",
       "25%      0.000000    7.895800  \n",
       "50%      0.000000   14.454200  \n",
       "75%      0.000000   31.000000  \n",
       "max      6.000000  512.329200  "
      ]
     },
     "execution_count": 13,
     "metadata": {},
     "output_type": "execute_result"
    }
   ],
   "source": [
    "X.describe()"
   ]
  },
  {
   "cell_type": "code",
   "execution_count": 14,
   "metadata": {
    "execution": {
     "iopub.execute_input": "2022-03-14T06:27:00.110630Z",
     "iopub.status.busy": "2022-03-14T06:27:00.109920Z",
     "iopub.status.idle": "2022-03-14T06:27:00.114225Z",
     "shell.execute_reply": "2022-03-14T06:27:00.114838Z",
     "shell.execute_reply.started": "2022-03-14T06:25:31.740960Z"
    },
    "papermill": {
     "duration": 0.068068,
     "end_time": "2022-03-14T06:27:00.115034",
     "exception": false,
     "start_time": "2022-03-14T06:27:00.046966",
     "status": "completed"
    },
    "tags": []
   },
   "outputs": [],
   "source": [
    "id_pass = Xtest['PassengerId']"
   ]
  },
  {
   "cell_type": "markdown",
   "metadata": {
    "papermill": {
     "duration": 0.059062,
     "end_time": "2022-03-14T06:27:00.233515",
     "exception": false,
     "start_time": "2022-03-14T06:27:00.174453",
     "status": "completed"
    },
    "tags": []
   },
   "source": [
    "## Encode the data"
   ]
  },
  {
   "cell_type": "code",
   "execution_count": 15,
   "metadata": {
    "execution": {
     "iopub.execute_input": "2022-03-14T06:27:00.359868Z",
     "iopub.status.busy": "2022-03-14T06:27:00.359170Z",
     "iopub.status.idle": "2022-03-14T06:27:00.361464Z",
     "shell.execute_reply": "2022-03-14T06:27:00.362014Z",
     "shell.execute_reply.started": "2022-03-14T06:25:31.747544Z"
    },
    "papermill": {
     "duration": 0.066972,
     "end_time": "2022-03-14T06:27:00.362194",
     "exception": false,
     "start_time": "2022-03-14T06:27:00.295222",
     "status": "completed"
    },
    "tags": []
   },
   "outputs": [],
   "source": [
    "from sklearn.preprocessing import LabelEncoder"
   ]
  },
  {
   "cell_type": "code",
   "execution_count": 16,
   "metadata": {
    "execution": {
     "iopub.execute_input": "2022-03-14T06:27:00.489768Z",
     "iopub.status.busy": "2022-03-14T06:27:00.489050Z",
     "iopub.status.idle": "2022-03-14T06:27:00.491191Z",
     "shell.execute_reply": "2022-03-14T06:27:00.491792Z",
     "shell.execute_reply.started": "2022-03-14T06:25:31.759647Z"
    },
    "papermill": {
     "duration": 0.069569,
     "end_time": "2022-03-14T06:27:00.491988",
     "exception": false,
     "start_time": "2022-03-14T06:27:00.422419",
     "status": "completed"
    },
    "tags": []
   },
   "outputs": [],
   "source": [
    "Sex_class = LabelEncoder()\n",
    "X['Sex_class'] = Sex_class.fit_transform(X['Sex'])\n",
    "Xtest['Sex_class'] = Sex_class.fit_transform(Xtest['Sex'])"
   ]
  },
  {
   "cell_type": "code",
   "execution_count": 17,
   "metadata": {
    "execution": {
     "iopub.execute_input": "2022-03-14T06:27:00.614566Z",
     "iopub.status.busy": "2022-03-14T06:27:00.613887Z",
     "iopub.status.idle": "2022-03-14T06:27:00.636024Z",
     "shell.execute_reply": "2022-03-14T06:27:00.636577Z",
     "shell.execute_reply.started": "2022-03-14T06:25:31.772753Z"
    },
    "papermill": {
     "duration": 0.084942,
     "end_time": "2022-03-14T06:27:00.636793",
     "exception": false,
     "start_time": "2022-03-14T06:27:00.551851",
     "status": "completed"
    },
    "tags": []
   },
   "outputs": [],
   "source": [
    "X = pd.get_dummies(X)\n",
    "Xtest = pd.get_dummies(Xtest)"
   ]
  },
  {
   "cell_type": "markdown",
   "metadata": {
    "papermill": {
     "duration": 0.060365,
     "end_time": "2022-03-14T06:27:00.758637",
     "exception": false,
     "start_time": "2022-03-14T06:27:00.698272",
     "status": "completed"
    },
    "tags": []
   },
   "source": [
    "## Use seaborn sns heatmap"
   ]
  },
  {
   "cell_type": "code",
   "execution_count": 18,
   "metadata": {
    "execution": {
     "iopub.execute_input": "2022-03-14T06:27:00.881327Z",
     "iopub.status.busy": "2022-03-14T06:27:00.880636Z",
     "iopub.status.idle": "2022-03-14T06:27:02.348273Z",
     "shell.execute_reply": "2022-03-14T06:27:02.347691Z",
     "shell.execute_reply.started": "2022-03-14T06:25:31.802713Z"
    },
    "papermill": {
     "duration": 1.530564,
     "end_time": "2022-03-14T06:27:02.348454",
     "exception": false,
     "start_time": "2022-03-14T06:27:00.817890",
     "status": "completed"
    },
    "tags": []
   },
   "outputs": [
    {
     "data": {
      "text/plain": [
       "<AxesSubplot:>"
      ]
     },
     "execution_count": 18,
     "metadata": {},
     "output_type": "execute_result"
    },
    {
     "data": {
      "image/png": "[encoded data removed]",
      "text/plain": [
       "<Figure size 432x288 with 2 Axes>"
      ]
     },
     "metadata": {
      "needs_background": "light"
     },
     "output_type": "display_data"
    }
   ],
   "source": [
    "sns.heatmap(X.corr(),annot = True)"
   ]
  },
  {
   "cell_type": "markdown",
   "metadata": {
    "papermill": {
     "duration": 0.062376,
     "end_time": "2022-03-14T06:27:02.474841",
     "exception": false,
     "start_time": "2022-03-14T06:27:02.412465",
     "status": "completed"
    },
    "tags": []
   },
   "source": [
    "## Seaborn pairplot"
   ]
  },
  {
   "cell_type": "code",
   "execution_count": 19,
   "metadata": {
    "execution": {
     "iopub.execute_input": "2022-03-14T06:27:02.604533Z",
     "iopub.status.busy": "2022-03-14T06:27:02.603832Z",
     "iopub.status.idle": "2022-03-14T06:27:02.607642Z",
     "shell.execute_reply": "2022-03-14T06:27:02.608234Z",
     "shell.execute_reply.started": "2022-03-14T06:25:33.036029Z"
    },
    "papermill": {
     "duration": 0.071226,
     "end_time": "2022-03-14T06:27:02.608437",
     "exception": false,
     "start_time": "2022-03-14T06:27:02.537211",
     "status": "completed"
    },
    "tags": []
   },
   "outputs": [],
   "source": [
    "# sns.pairplot(X)"
   ]
  },
  {
   "cell_type": "markdown",
   "metadata": {
    "papermill": {
     "duration": 0.062513,
     "end_time": "2022-03-14T06:27:02.733667",
     "exception": false,
     "start_time": "2022-03-14T06:27:02.671154",
     "status": "completed"
    },
    "tags": []
   },
   "source": [
    "## Head of dataframe"
   ]
  },
  {
   "cell_type": "code",
   "execution_count": 20,
   "metadata": {
    "execution": {
     "iopub.execute_input": "2022-03-14T06:27:02.861452Z",
     "iopub.status.busy": "2022-03-14T06:27:02.860767Z",
     "iopub.status.idle": "2022-03-14T06:27:02.877623Z",
     "shell.execute_reply": "2022-03-14T06:27:02.878262Z",
     "shell.execute_reply.started": "2022-03-14T06:25:33.042218Z"
    },
    "papermill": {
     "duration": 0.082437,
     "end_time": "2022-03-14T06:27:02.878476",
     "exception": false,
     "start_time": "2022-03-14T06:27:02.796039",
     "status": "completed"
    },
    "tags": []
   },
   "outputs": [
    {
     "data": {
      "text/html": [
       "<div>\n",
       "<style scoped>\n",
       "    .dataframe tbody tr th:only-of-type {\n",
       "        vertical-align: middle;\n",
       "    }\n",
       "\n",
       "    .dataframe tbody tr th {\n",
       "        vertical-align: top;\n",
       "    }\n",
       "\n",
       "    .dataframe thead th {\n",
       "        text-align: right;\n",
       "    }\n",
       "</style>\n",
       "<table border=\"1\" class=\"dataframe\">\n",
       "  <thead>\n",
       "    <tr style=\"text-align: right;\">\n",
       "      <th></th>\n",
       "      <th>PassengerId</th>\n",
       "      <th>Survived</th>\n",
       "      <th>Pclass</th>\n",
       "      <th>Age</th>\n",
       "      <th>SibSp</th>\n",
       "      <th>Parch</th>\n",
       "      <th>Fare</th>\n",
       "      <th>Sex_class</th>\n",
       "      <th>Sex_female</th>\n",
       "      <th>Sex_male</th>\n",
       "      <th>Embarked_C</th>\n",
       "      <th>Embarked_Q</th>\n",
       "      <th>Embarked_S</th>\n",
       "    </tr>\n",
       "  </thead>\n",
       "  <tbody>\n",
       "    <tr>\n",
       "      <th>0</th>\n",
       "      <td>1</td>\n",
       "      <td>0</td>\n",
       "      <td>3</td>\n",
       "      <td>22.0</td>\n",
       "      <td>1</td>\n",
       "      <td>0</td>\n",
       "      <td>7.2500</td>\n",
       "      <td>1</td>\n",
       "      <td>0</td>\n",
       "      <td>1</td>\n",
       "      <td>0</td>\n",
       "      <td>0</td>\n",
       "      <td>1</td>\n",
       "    </tr>\n",
       "    <tr>\n",
       "      <th>1</th>\n",
       "      <td>2</td>\n",
       "      <td>1</td>\n",
       "      <td>1</td>\n",
       "      <td>38.0</td>\n",
       "      <td>1</td>\n",
       "      <td>0</td>\n",
       "      <td>71.2833</td>\n",
       "      <td>0</td>\n",
       "      <td>1</td>\n",
       "      <td>0</td>\n",
       "      <td>1</td>\n",
       "      <td>0</td>\n",
       "      <td>0</td>\n",
       "    </tr>\n",
       "    <tr>\n",
       "      <th>2</th>\n",
       "      <td>3</td>\n",
       "      <td>1</td>\n",
       "      <td>3</td>\n",
       "      <td>26.0</td>\n",
       "      <td>0</td>\n",
       "      <td>0</td>\n",
       "      <td>7.9250</td>\n",
       "      <td>0</td>\n",
       "      <td>1</td>\n",
       "      <td>0</td>\n",
       "      <td>0</td>\n",
       "      <td>0</td>\n",
       "      <td>1</td>\n",
       "    </tr>\n",
       "    <tr>\n",
       "      <th>3</th>\n",
       "      <td>4</td>\n",
       "      <td>1</td>\n",
       "      <td>1</td>\n",
       "      <td>35.0</td>\n",
       "      <td>1</td>\n",
       "      <td>0</td>\n",
       "      <td>53.1000</td>\n",
       "      <td>0</td>\n",
       "      <td>1</td>\n",
       "      <td>0</td>\n",
       "      <td>0</td>\n",
       "      <td>0</td>\n",
       "      <td>1</td>\n",
       "    </tr>\n",
       "    <tr>\n",
       "      <th>4</th>\n",
       "      <td>5</td>\n",
       "      <td>0</td>\n",
       "      <td>3</td>\n",
       "      <td>35.0</td>\n",
       "      <td>0</td>\n",
       "      <td>0</td>\n",
       "      <td>8.0500</td>\n",
       "      <td>1</td>\n",
       "      <td>0</td>\n",
       "      <td>1</td>\n",
       "      <td>0</td>\n",
       "      <td>0</td>\n",
       "      <td>1</td>\n",
       "    </tr>\n",
       "  </tbody>\n",
       "</table>\n",
       "</div>"
      ],
      "text/plain": [
       "   PassengerId  Survived  Pclass   Age  SibSp  Parch     Fare  Sex_class  \\\n",
       "0            1         0       3  22.0      1      0   7.2500          1   \n",
       "1            2         1       1  38.0      1      0  71.2833          0   \n",
       "2            3         1       3  26.0      0      0   7.9250          0   \n",
       "3            4         1       1  35.0      1      0  53.1000          0   \n",
       "4            5         0       3  35.0      0      0   8.0500          1   \n",
       "\n",
       "   Sex_female  Sex_male  Embarked_C  Embarked_Q  Embarked_S  \n",
       "0           0         1           0           0           1  \n",
       "1           1         0           1           0           0  \n",
       "2           1         0           0           0           1  \n",
       "3           1         0           0           0           1  \n",
       "4           0         1           0           0           1  "
      ]
     },
     "execution_count": 20,
     "metadata": {},
     "output_type": "execute_result"
    }
   ],
   "source": [
    "X.head()"
   ]
  },
  {
   "cell_type": "markdown",
   "metadata": {
    "papermill": {
     "duration": 0.062062,
     "end_time": "2022-03-14T06:27:03.003888",
     "exception": false,
     "start_time": "2022-03-14T06:27:02.941826",
     "status": "completed"
    },
    "tags": []
   },
   "source": [
    "# Feature Engineering"
   ]
  },
  {
   "cell_type": "markdown",
   "metadata": {
    "papermill": {
     "duration": 0.062338,
     "end_time": "2022-03-14T06:27:03.128518",
     "exception": false,
     "start_time": "2022-03-14T06:27:03.066180",
     "status": "completed"
    },
    "tags": []
   },
   "source": [
    "## Combine male and female"
   ]
  },
  {
   "cell_type": "code",
   "execution_count": 21,
   "metadata": {
    "execution": {
     "iopub.execute_input": "2022-03-14T06:27:03.256019Z",
     "iopub.status.busy": "2022-03-14T06:27:03.255321Z",
     "iopub.status.idle": "2022-03-14T06:27:03.259732Z",
     "shell.execute_reply": "2022-03-14T06:27:03.260401Z",
     "shell.execute_reply.started": "2022-03-14T06:25:33.065800Z"
    },
    "papermill": {
     "duration": 0.069919,
     "end_time": "2022-03-14T06:27:03.260573",
     "exception": false,
     "start_time": "2022-03-14T06:27:03.190654",
     "status": "completed"
    },
    "tags": []
   },
   "outputs": [],
   "source": [
    "def xor(a, b):\n",
    "    return (a and not b) or (not a and b)"
   ]
  },
  {
   "cell_type": "code",
   "execution_count": 22,
   "metadata": {
    "execution": {
     "iopub.execute_input": "2022-03-14T06:27:03.390131Z",
     "iopub.status.busy": "2022-03-14T06:27:03.389382Z",
     "iopub.status.idle": "2022-03-14T06:27:03.394130Z",
     "shell.execute_reply": "2022-03-14T06:27:03.394658Z",
     "shell.execute_reply.started": "2022-03-14T06:25:33.073864Z"
    },
    "papermill": {
     "duration": 0.071125,
     "end_time": "2022-03-14T06:27:03.394890",
     "exception": false,
     "start_time": "2022-03-14T06:27:03.323765",
     "status": "completed"
    },
    "tags": []
   },
   "outputs": [],
   "source": [
    "male = X['Sex_male']\n",
    "female = X['Sex_female']"
   ]
  },
  {
   "cell_type": "code",
   "execution_count": 23,
   "metadata": {
    "execution": {
     "iopub.execute_input": "2022-03-14T06:27:03.525130Z",
     "iopub.status.busy": "2022-03-14T06:27:03.522381Z",
     "iopub.status.idle": "2022-03-14T06:27:03.540050Z",
     "shell.execute_reply": "2022-03-14T06:27:03.540730Z",
     "shell.execute_reply.started": "2022-03-14T06:25:33.084579Z"
    },
    "papermill": {
     "duration": 0.083502,
     "end_time": "2022-03-14T06:27:03.540941",
     "exception": false,
     "start_time": "2022-03-14T06:27:03.457439",
     "status": "completed"
    },
    "tags": []
   },
   "outputs": [
    {
     "data": {
      "text/html": [
       "<div>\n",
       "<style scoped>\n",
       "    .dataframe tbody tr th:only-of-type {\n",
       "        vertical-align: middle;\n",
       "    }\n",
       "\n",
       "    .dataframe tbody tr th {\n",
       "        vertical-align: top;\n",
       "    }\n",
       "\n",
       "    .dataframe thead th {\n",
       "        text-align: right;\n",
       "    }\n",
       "</style>\n",
       "<table border=\"1\" class=\"dataframe\">\n",
       "  <thead>\n",
       "    <tr style=\"text-align: right;\">\n",
       "      <th></th>\n",
       "      <th>PassengerId</th>\n",
       "      <th>Survived</th>\n",
       "      <th>Pclass</th>\n",
       "      <th>Age</th>\n",
       "      <th>SibSp</th>\n",
       "      <th>Parch</th>\n",
       "      <th>Fare</th>\n",
       "      <th>Sex_class</th>\n",
       "      <th>Sex_female</th>\n",
       "      <th>Sex_male</th>\n",
       "      <th>Embarked_C</th>\n",
       "      <th>Embarked_Q</th>\n",
       "      <th>Embarked_S</th>\n",
       "    </tr>\n",
       "  </thead>\n",
       "  <tbody>\n",
       "    <tr>\n",
       "      <th>0</th>\n",
       "      <td>1</td>\n",
       "      <td>0</td>\n",
       "      <td>3</td>\n",
       "      <td>22.0</td>\n",
       "      <td>1</td>\n",
       "      <td>0</td>\n",
       "      <td>7.2500</td>\n",
       "      <td>1</td>\n",
       "      <td>0</td>\n",
       "      <td>1</td>\n",
       "      <td>0</td>\n",
       "      <td>0</td>\n",
       "      <td>1</td>\n",
       "    </tr>\n",
       "    <tr>\n",
       "      <th>1</th>\n",
       "      <td>2</td>\n",
       "      <td>1</td>\n",
       "      <td>1</td>\n",
       "      <td>38.0</td>\n",
       "      <td>1</td>\n",
       "      <td>0</td>\n",
       "      <td>71.2833</td>\n",
       "      <td>0</td>\n",
       "      <td>1</td>\n",
       "      <td>0</td>\n",
       "      <td>1</td>\n",
       "      <td>0</td>\n",
       "      <td>0</td>\n",
       "    </tr>\n",
       "    <tr>\n",
       "      <th>2</th>\n",
       "      <td>3</td>\n",
       "      <td>1</td>\n",
       "      <td>3</td>\n",
       "      <td>26.0</td>\n",
       "      <td>0</td>\n",
       "      <td>0</td>\n",
       "      <td>7.9250</td>\n",
       "      <td>0</td>\n",
       "      <td>1</td>\n",
       "      <td>0</td>\n",
       "      <td>0</td>\n",
       "      <td>0</td>\n",
       "      <td>1</td>\n",
       "    </tr>\n",
       "    <tr>\n",
       "      <th>3</th>\n",
       "      <td>4</td>\n",
       "      <td>1</td>\n",
       "      <td>1</td>\n",
       "      <td>35.0</td>\n",
       "      <td>1</td>\n",
       "      <td>0</td>\n",
       "      <td>53.1000</td>\n",
       "      <td>0</td>\n",
       "      <td>1</td>\n",
       "      <td>0</td>\n",
       "      <td>0</td>\n",
       "      <td>0</td>\n",
       "      <td>1</td>\n",
       "    </tr>\n",
       "    <tr>\n",
       "      <th>4</th>\n",
       "      <td>5</td>\n",
       "      <td>0</td>\n",
       "      <td>3</td>\n",
       "      <td>35.0</td>\n",
       "      <td>0</td>\n",
       "      <td>0</td>\n",
       "      <td>8.0500</td>\n",
       "      <td>1</td>\n",
       "      <td>0</td>\n",
       "      <td>1</td>\n",
       "      <td>0</td>\n",
       "      <td>0</td>\n",
       "      <td>1</td>\n",
       "    </tr>\n",
       "  </tbody>\n",
       "</table>\n",
       "</div>"
      ],
      "text/plain": [
       "   PassengerId  Survived  Pclass   Age  SibSp  Parch     Fare  Sex_class  \\\n",
       "0            1         0       3  22.0      1      0   7.2500          1   \n",
       "1            2         1       1  38.0      1      0  71.2833          0   \n",
       "2            3         1       3  26.0      0      0   7.9250          0   \n",
       "3            4         1       1  35.0      1      0  53.1000          0   \n",
       "4            5         0       3  35.0      0      0   8.0500          1   \n",
       "\n",
       "   Sex_female  Sex_male  Embarked_C  Embarked_Q  Embarked_S  \n",
       "0           0         1           0           0           1  \n",
       "1           1         0           1           0           0  \n",
       "2           1         0           0           0           1  \n",
       "3           1         0           0           0           1  \n",
       "4           0         1           0           0           1  "
      ]
     },
     "execution_count": 23,
     "metadata": {},
     "output_type": "execute_result"
    }
   ],
   "source": [
    "X.head()"
   ]
  },
  {
   "cell_type": "markdown",
   "metadata": {
    "papermill": {
     "duration": 0.064115,
     "end_time": "2022-03-14T06:27:03.669624",
     "exception": false,
     "start_time": "2022-03-14T06:27:03.605509",
     "status": "completed"
    },
    "tags": []
   },
   "source": [
    "## Combine the Pclass and fare "
   ]
  },
  {
   "cell_type": "code",
   "execution_count": 24,
   "metadata": {
    "execution": {
     "iopub.execute_input": "2022-03-14T06:27:03.806466Z",
     "iopub.status.busy": "2022-03-14T06:27:03.805725Z",
     "iopub.status.idle": "2022-03-14T06:27:03.814997Z",
     "shell.execute_reply": "2022-03-14T06:27:03.815567Z",
     "shell.execute_reply.started": "2022-03-14T06:25:33.109263Z"
    },
    "papermill": {
     "duration": 0.079076,
     "end_time": "2022-03-14T06:27:03.815759",
     "exception": false,
     "start_time": "2022-03-14T06:27:03.736683",
     "status": "completed"
    },
    "tags": []
   },
   "outputs": [
    {
     "data": {
      "text/plain": [
       "array([3, 1, 2])"
      ]
     },
     "execution_count": 24,
     "metadata": {},
     "output_type": "execute_result"
    }
   ],
   "source": [
    "X['Pclass'].unique()"
   ]
  },
  {
   "cell_type": "code",
   "execution_count": 25,
   "metadata": {
    "execution": {
     "iopub.execute_input": "2022-03-14T06:27:03.953229Z",
     "iopub.status.busy": "2022-03-14T06:27:03.949588Z",
     "iopub.status.idle": "2022-03-14T06:27:03.955224Z",
     "shell.execute_reply": "2022-03-14T06:27:03.955962Z",
     "shell.execute_reply.started": "2022-03-14T06:25:33.118909Z"
    },
    "papermill": {
     "duration": 0.074399,
     "end_time": "2022-03-14T06:27:03.956158",
     "exception": false,
     "start_time": "2022-03-14T06:27:03.881759",
     "status": "completed"
    },
    "tags": []
   },
   "outputs": [],
   "source": [
    "X['fare_class'] = X['Fare']*X['Pclass']"
   ]
  },
  {
   "cell_type": "code",
   "execution_count": 26,
   "metadata": {
    "execution": {
     "iopub.execute_input": "2022-03-14T06:27:04.087947Z",
     "iopub.status.busy": "2022-03-14T06:27:04.087197Z",
     "iopub.status.idle": "2022-03-14T06:27:04.091899Z",
     "shell.execute_reply": "2022-03-14T06:27:04.091256Z",
     "shell.execute_reply.started": "2022-03-14T06:25:33.128981Z"
    },
    "papermill": {
     "duration": 0.071333,
     "end_time": "2022-03-14T06:27:04.092054",
     "exception": false,
     "start_time": "2022-03-14T06:27:04.020721",
     "status": "completed"
    },
    "tags": []
   },
   "outputs": [],
   "source": [
    "# X.drop(columns=['Pclass','Fare'],inplace=True)\n",
    "# X_val.drop(columns=['Pclass','Fare'],inplace=True)"
   ]
  },
  {
   "cell_type": "markdown",
   "metadata": {
    "papermill": {
     "duration": 0.064131,
     "end_time": "2022-03-14T06:27:04.219998",
     "exception": false,
     "start_time": "2022-03-14T06:27:04.155867",
     "status": "completed"
    },
    "tags": []
   },
   "source": [
    "### Combine Parch and sibsp"
   ]
  },
  {
   "cell_type": "code",
   "execution_count": 27,
   "metadata": {
    "execution": {
     "iopub.execute_input": "2022-03-14T06:27:04.356560Z",
     "iopub.status.busy": "2022-03-14T06:27:04.355712Z",
     "iopub.status.idle": "2022-03-14T06:27:04.359082Z",
     "shell.execute_reply": "2022-03-14T06:27:04.358449Z",
     "shell.execute_reply.started": "2022-03-14T06:25:33.138347Z"
    },
    "papermill": {
     "duration": 0.07434,
     "end_time": "2022-03-14T06:27:04.359241",
     "exception": false,
     "start_time": "2022-03-14T06:27:04.284901",
     "status": "completed"
    },
    "tags": []
   },
   "outputs": [],
   "source": [
    "X['Family'] = X['Parch'] + X['SibSp']"
   ]
  },
  {
   "cell_type": "code",
   "execution_count": 28,
   "metadata": {
    "execution": {
     "iopub.execute_input": "2022-03-14T06:27:04.490628Z",
     "iopub.status.busy": "2022-03-14T06:27:04.489552Z",
     "iopub.status.idle": "2022-03-14T06:27:04.493655Z",
     "shell.execute_reply": "2022-03-14T06:27:04.494198Z",
     "shell.execute_reply.started": "2022-03-14T06:25:33.151690Z"
    },
    "papermill": {
     "duration": 0.071489,
     "end_time": "2022-03-14T06:27:04.494411",
     "exception": false,
     "start_time": "2022-03-14T06:27:04.422922",
     "status": "completed"
    },
    "tags": []
   },
   "outputs": [],
   "source": [
    "# X.drop(columns=['Parch','SibSp'],inplace=True)"
   ]
  },
  {
   "cell_type": "code",
   "execution_count": 29,
   "metadata": {
    "execution": {
     "iopub.execute_input": "2022-03-14T06:27:04.625657Z",
     "iopub.status.busy": "2022-03-14T06:27:04.624613Z",
     "iopub.status.idle": "2022-03-14T06:27:06.529292Z",
     "shell.execute_reply": "2022-03-14T06:27:06.529873Z",
     "shell.execute_reply.started": "2022-03-14T06:25:33.161184Z"
    },
    "papermill": {
     "duration": 1.972165,
     "end_time": "2022-03-14T06:27:06.530077",
     "exception": false,
     "start_time": "2022-03-14T06:27:04.557912",
     "status": "completed"
    },
    "tags": []
   },
   "outputs": [
    {
     "data": {
      "text/plain": [
       "<AxesSubplot:>"
      ]
     },
     "execution_count": 29,
     "metadata": {},
     "output_type": "execute_result"
    },
    {
     "data": {
      "image/png": "[encoded data removed]",
      "text/plain": [
       "<Figure size 720x360 with 2 Axes>"
      ]
     },
     "metadata": {
      "needs_background": "light"
     },
     "output_type": "display_data"
    }
   ],
   "source": [
    "plt.figure(figsize = [10,5])\n",
    "sns.heatmap(X.corr(),annot = True)"
   ]
  },
  {
   "cell_type": "markdown",
   "metadata": {
    "papermill": {
     "duration": 0.074783,
     "end_time": "2022-03-14T06:27:06.680522",
     "exception": false,
     "start_time": "2022-03-14T06:27:06.605739",
     "status": "completed"
    },
    "tags": []
   },
   "source": [
    "## Check correlation with encodings"
   ]
  },
  {
   "cell_type": "code",
   "execution_count": 30,
   "metadata": {
    "execution": {
     "iopub.execute_input": "2022-03-14T06:27:06.838938Z",
     "iopub.status.busy": "2022-03-14T06:27:06.837756Z",
     "iopub.status.idle": "2022-03-14T06:27:08.678022Z",
     "shell.execute_reply": "2022-03-14T06:27:08.678604Z",
     "shell.execute_reply.started": "2022-03-14T06:25:34.549417Z"
    },
    "papermill": {
     "duration": 1.923071,
     "end_time": "2022-03-14T06:27:08.678792",
     "exception": false,
     "start_time": "2022-03-14T06:27:06.755721",
     "status": "completed"
    },
    "tags": []
   },
   "outputs": [
    {
     "data": {
      "text/plain": [
       "<AxesSubplot:>"
      ]
     },
     "execution_count": 30,
     "metadata": {},
     "output_type": "execute_result"
    },
    {
     "data": {
      "image/png": "[encoded data removed]",
      "text/plain": [
       "<Figure size 1080x720 with 2 Axes>"
      ]
     },
     "metadata": {
      "needs_background": "light"
     },
     "output_type": "display_data"
    }
   ],
   "source": [
    "plt.figure(figsize=[15,10])\n",
    "sns.heatmap(X.corr(),annot=True)"
   ]
  },
  {
   "cell_type": "code",
   "execution_count": 31,
   "metadata": {
    "execution": {
     "iopub.execute_input": "2022-03-14T06:27:08.825820Z",
     "iopub.status.busy": "2022-03-14T06:27:08.824749Z",
     "iopub.status.idle": "2022-03-14T06:27:08.831710Z",
     "shell.execute_reply": "2022-03-14T06:27:08.832404Z",
     "shell.execute_reply.started": "2022-03-14T06:25:36.829243Z"
    },
    "papermill": {
     "duration": 0.082117,
     "end_time": "2022-03-14T06:27:08.832594",
     "exception": false,
     "start_time": "2022-03-14T06:27:08.750477",
     "status": "completed"
    },
    "tags": []
   },
   "outputs": [],
   "source": [
    "y = X['Survived']\n",
    "X.drop(columns = ['Survived'],inplace = True)"
   ]
  },
  {
   "cell_type": "markdown",
   "metadata": {
    "papermill": {
     "duration": 0.072847,
     "end_time": "2022-03-14T06:27:08.976991",
     "exception": false,
     "start_time": "2022-03-14T06:27:08.904144",
     "status": "completed"
    },
    "tags": []
   },
   "source": [
    "## Feature Scaling"
   ]
  },
  {
   "cell_type": "code",
   "execution_count": 32,
   "metadata": {
    "execution": {
     "iopub.execute_input": "2022-03-14T06:27:09.123062Z",
     "iopub.status.busy": "2022-03-14T06:27:09.121985Z",
     "iopub.status.idle": "2022-03-14T06:27:09.126765Z",
     "shell.execute_reply": "2022-03-14T06:27:09.127419Z",
     "shell.execute_reply.started": "2022-03-14T06:25:36.838456Z"
    },
    "papermill": {
     "duration": 0.079725,
     "end_time": "2022-03-14T06:27:09.127610",
     "exception": false,
     "start_time": "2022-03-14T06:27:09.047885",
     "status": "completed"
    },
    "tags": []
   },
   "outputs": [],
   "source": [
    "scaler = StandardScaler()"
   ]
  },
  {
   "cell_type": "markdown",
   "metadata": {
    "papermill": {
     "duration": 0.07083,
     "end_time": "2022-03-14T06:27:09.269347",
     "exception": false,
     "start_time": "2022-03-14T06:27:09.198517",
     "status": "completed"
    },
    "tags": []
   },
   "source": [
    "## Split the data"
   ]
  },
  {
   "cell_type": "code",
   "execution_count": 33,
   "metadata": {
    "execution": {
     "iopub.execute_input": "2022-03-14T06:27:09.416633Z",
     "iopub.status.busy": "2022-03-14T06:27:09.415546Z",
     "iopub.status.idle": "2022-03-14T06:27:09.422951Z",
     "shell.execute_reply": "2022-03-14T06:27:09.423590Z",
     "shell.execute_reply.started": "2022-03-14T06:25:36.848753Z"
    },
    "papermill": {
     "duration": 0.082355,
     "end_time": "2022-03-14T06:27:09.423785",
     "exception": false,
     "start_time": "2022-03-14T06:27:09.341430",
     "status": "completed"
    },
    "tags": []
   },
   "outputs": [],
   "source": [
    "X_train, X_val, y_train, y_val = train_test_split(X, y, test_size=0.10, random_state=2)"
   ]
  },
  {
   "cell_type": "markdown",
   "metadata": {
    "papermill": {
     "duration": 0.092488,
     "end_time": "2022-03-14T06:27:09.596269",
     "exception": false,
     "start_time": "2022-03-14T06:27:09.503781",
     "status": "completed"
    },
    "tags": []
   },
   "source": [
    "# K Nearest Neighbor"
   ]
  },
  {
   "cell_type": "code",
   "execution_count": 34,
   "metadata": {
    "execution": {
     "iopub.execute_input": "2022-03-14T06:27:09.741639Z",
     "iopub.status.busy": "2022-03-14T06:27:09.740889Z",
     "iopub.status.idle": "2022-03-14T06:27:09.887045Z",
     "shell.execute_reply": "2022-03-14T06:27:09.887612Z",
     "shell.execute_reply.started": "2022-03-14T06:25:36.863957Z"
    },
    "papermill": {
     "duration": 0.220629,
     "end_time": "2022-03-14T06:27:09.887819",
     "exception": false,
     "start_time": "2022-03-14T06:27:09.667190",
     "status": "completed"
    },
    "tags": []
   },
   "outputs": [],
   "source": [
    "from sklearn.neighbors import KNeighborsClassifier\n",
    "from sklearn.metrics import r2_score\n",
    "from sklearn.model_selection import cross_val_score"
   ]
  },
  {
   "cell_type": "code",
   "execution_count": 35,
   "metadata": {
    "execution": {
     "iopub.execute_input": "2022-03-14T06:27:10.035811Z",
     "iopub.status.busy": "2022-03-14T06:27:10.034957Z",
     "iopub.status.idle": "2022-03-14T06:27:10.039299Z",
     "shell.execute_reply": "2022-03-14T06:27:10.040014Z",
     "shell.execute_reply.started": "2022-03-14T06:25:36.872734Z"
    },
    "papermill": {
     "duration": 0.080179,
     "end_time": "2022-03-14T06:27:10.040199",
     "exception": false,
     "start_time": "2022-03-14T06:27:09.960020",
     "status": "completed"
    },
    "tags": []
   },
   "outputs": [],
   "source": [
    "features = ['Fare','Pclass','Sex_class','Embarked_Q','Embarked_C','Embarked_S','SibSp']"
   ]
  },
  {
   "cell_type": "code",
   "execution_count": 36,
   "metadata": {
    "execution": {
     "iopub.execute_input": "2022-03-14T06:27:10.185771Z",
     "iopub.status.busy": "2022-03-14T06:27:10.185076Z",
     "iopub.status.idle": "2022-03-14T06:27:10.192419Z",
     "shell.execute_reply": "2022-03-14T06:27:10.193059Z",
     "shell.execute_reply.started": "2022-03-14T06:25:36.885183Z"
    },
    "papermill": {
     "duration": 0.081298,
     "end_time": "2022-03-14T06:27:10.193249",
     "exception": false,
     "start_time": "2022-03-14T06:27:10.111951",
     "status": "completed"
    },
    "tags": []
   },
   "outputs": [],
   "source": [
    "TrainX = np.array(X_train[features])\n",
    "EvalX = np.array(X_val[features])"
   ]
  },
  {
   "cell_type": "markdown",
   "metadata": {
    "papermill": {
     "duration": 0.072862,
     "end_time": "2022-03-14T06:27:10.338181",
     "exception": false,
     "start_time": "2022-03-14T06:27:10.265319",
     "status": "completed"
    },
    "tags": []
   },
   "source": [
    "## Squareroot of count"
   ]
  },
  {
   "cell_type": "code",
   "execution_count": 37,
   "metadata": {
    "execution": {
     "iopub.execute_input": "2022-03-14T06:27:10.484572Z",
     "iopub.status.busy": "2022-03-14T06:27:10.483807Z",
     "iopub.status.idle": "2022-03-14T06:27:10.487860Z",
     "shell.execute_reply": "2022-03-14T06:27:10.488505Z",
     "shell.execute_reply.started": "2022-03-14T06:25:36.897300Z"
    },
    "papermill": {
     "duration": 0.078553,
     "end_time": "2022-03-14T06:27:10.488683",
     "exception": false,
     "start_time": "2022-03-14T06:27:10.410130",
     "status": "completed"
    },
    "tags": []
   },
   "outputs": [],
   "source": [
    "n = TrainX.shape[0]"
   ]
  },
  {
   "cell_type": "code",
   "execution_count": 38,
   "metadata": {
    "execution": {
     "iopub.execute_input": "2022-03-14T06:27:10.634427Z",
     "iopub.status.busy": "2022-03-14T06:27:10.633686Z",
     "iopub.status.idle": "2022-03-14T06:27:10.638140Z",
     "shell.execute_reply": "2022-03-14T06:27:10.638742Z",
     "shell.execute_reply.started": "2022-03-14T06:25:36.909024Z"
    },
    "papermill": {
     "duration": 0.078957,
     "end_time": "2022-03-14T06:27:10.638943",
     "exception": false,
     "start_time": "2022-03-14T06:27:10.559986",
     "status": "completed"
    },
    "tags": []
   },
   "outputs": [],
   "source": [
    "knn = KNeighborsClassifier(n_neighbors=int(np.ceil(np.sqrt(n))))"
   ]
  },
  {
   "cell_type": "code",
   "execution_count": 39,
   "metadata": {
    "execution": {
     "iopub.execute_input": "2022-03-14T06:27:10.784361Z",
     "iopub.status.busy": "2022-03-14T06:27:10.783682Z",
     "iopub.status.idle": "2022-03-14T06:27:10.795925Z",
     "shell.execute_reply": "2022-03-14T06:27:10.796475Z",
     "shell.execute_reply.started": "2022-03-14T06:25:36.919935Z"
    },
    "papermill": {
     "duration": 0.08645,
     "end_time": "2022-03-14T06:27:10.796673",
     "exception": false,
     "start_time": "2022-03-14T06:27:10.710223",
     "status": "completed"
    },
    "tags": []
   },
   "outputs": [
    {
     "data": {
      "text/plain": [
       "KNeighborsClassifier(n_neighbors=29)"
      ]
     },
     "execution_count": 39,
     "metadata": {},
     "output_type": "execute_result"
    }
   ],
   "source": [
    "knn.fit(TrainX,y_train)"
   ]
  },
  {
   "cell_type": "code",
   "execution_count": 40,
   "metadata": {
    "execution": {
     "iopub.execute_input": "2022-03-14T06:27:10.948007Z",
     "iopub.status.busy": "2022-03-14T06:27:10.947232Z",
     "iopub.status.idle": "2022-03-14T06:27:10.959661Z",
     "shell.execute_reply": "2022-03-14T06:27:10.959036Z",
     "shell.execute_reply.started": "2022-03-14T06:25:36.935509Z"
    },
    "papermill": {
     "duration": 0.090686,
     "end_time": "2022-03-14T06:27:10.959827",
     "exception": false,
     "start_time": "2022-03-14T06:27:10.869141",
     "status": "completed"
    },
    "tags": []
   },
   "outputs": [],
   "source": [
    "y_predict = knn.predict(EvalX)"
   ]
  },
  {
   "cell_type": "code",
   "execution_count": 41,
   "metadata": {
    "execution": {
     "iopub.execute_input": "2022-03-14T06:27:11.109955Z",
     "iopub.status.busy": "2022-03-14T06:27:11.109211Z",
     "iopub.status.idle": "2022-03-14T06:27:11.259910Z",
     "shell.execute_reply": "2022-03-14T06:27:11.259215Z",
     "shell.execute_reply.started": "2022-03-14T06:25:36.947779Z"
    },
    "papermill": {
     "duration": 0.228065,
     "end_time": "2022-03-14T06:27:11.260066",
     "exception": false,
     "start_time": "2022-03-14T06:27:11.032001",
     "status": "completed"
    },
    "tags": []
   },
   "outputs": [
    {
     "data": {
      "text/plain": [
       "0.6332865168539327"
      ]
     },
     "execution_count": 41,
     "metadata": {},
     "output_type": "execute_result"
    }
   ],
   "source": [
    "#10-fold cross validation, notice that I am giving X,y not X_train, y_train\n",
    "scores = cross_val_score(knn, X, y, cv=10, scoring='accuracy')\n",
    "mean_score = np.mean(scores)\n",
    "mean_score"
   ]
  },
  {
   "cell_type": "markdown",
   "metadata": {
    "papermill": {
     "duration": 0.072495,
     "end_time": "2022-03-14T06:27:11.406154",
     "exception": false,
     "start_time": "2022-03-14T06:27:11.333659",
     "status": "completed"
    },
    "tags": []
   },
   "source": [
    "## Decision Tree"
   ]
  },
  {
   "cell_type": "code",
   "execution_count": 42,
   "metadata": {
    "execution": {
     "iopub.execute_input": "2022-03-14T06:27:11.553739Z",
     "iopub.status.busy": "2022-03-14T06:27:11.553007Z",
     "iopub.status.idle": "2022-03-14T06:27:11.583759Z",
     "shell.execute_reply": "2022-03-14T06:27:11.583021Z",
     "shell.execute_reply.started": "2022-03-14T06:25:37.074804Z"
    },
    "papermill": {
     "duration": 0.105616,
     "end_time": "2022-03-14T06:27:11.583929",
     "exception": false,
     "start_time": "2022-03-14T06:27:11.478313",
     "status": "completed"
    },
    "tags": []
   },
   "outputs": [],
   "source": [
    "from sklearn.tree import DecisionTreeClassifier"
   ]
  },
  {
   "cell_type": "code",
   "execution_count": 43,
   "metadata": {
    "execution": {
     "iopub.execute_input": "2022-03-14T06:27:11.730897Z",
     "iopub.status.busy": "2022-03-14T06:27:11.729797Z",
     "iopub.status.idle": "2022-03-14T06:27:11.734504Z",
     "shell.execute_reply": "2022-03-14T06:27:11.735040Z",
     "shell.execute_reply.started": "2022-03-14T06:25:37.081091Z"
    },
    "papermill": {
     "duration": 0.079724,
     "end_time": "2022-03-14T06:27:11.735226",
     "exception": false,
     "start_time": "2022-03-14T06:27:11.655502",
     "status": "completed"
    },
    "tags": []
   },
   "outputs": [],
   "source": [
    "tree = DecisionTreeClassifier(criterion=\"gini\")"
   ]
  },
  {
   "cell_type": "code",
   "execution_count": 44,
   "metadata": {
    "execution": {
     "iopub.execute_input": "2022-03-14T06:27:11.887294Z",
     "iopub.status.busy": "2022-03-14T06:27:11.886204Z",
     "iopub.status.idle": "2022-03-14T06:27:11.895931Z",
     "shell.execute_reply": "2022-03-14T06:27:11.896632Z",
     "shell.execute_reply.started": "2022-03-14T06:25:37.094309Z"
    },
    "papermill": {
     "duration": 0.086479,
     "end_time": "2022-03-14T06:27:11.896829",
     "exception": false,
     "start_time": "2022-03-14T06:27:11.810350",
     "status": "completed"
    },
    "tags": []
   },
   "outputs": [
    {
     "data": {
      "text/plain": [
       "DecisionTreeClassifier()"
      ]
     },
     "execution_count": 44,
     "metadata": {},
     "output_type": "execute_result"
    }
   ],
   "source": [
    "tree.fit(TrainX,y_train)"
   ]
  },
  {
   "cell_type": "code",
   "execution_count": 45,
   "metadata": {
    "execution": {
     "iopub.execute_input": "2022-03-14T06:27:12.044823Z",
     "iopub.status.busy": "2022-03-14T06:27:12.043720Z",
     "iopub.status.idle": "2022-03-14T06:27:12.048681Z",
     "shell.execute_reply": "2022-03-14T06:27:12.049323Z",
     "shell.execute_reply.started": "2022-03-14T06:25:37.114445Z"
    },
    "papermill": {
     "duration": 0.080885,
     "end_time": "2022-03-14T06:27:12.049526",
     "exception": false,
     "start_time": "2022-03-14T06:27:11.968641",
     "status": "completed"
    },
    "tags": []
   },
   "outputs": [],
   "source": [
    "y_predict = tree.predict(EvalX)"
   ]
  },
  {
   "cell_type": "code",
   "execution_count": 46,
   "metadata": {
    "execution": {
     "iopub.execute_input": "2022-03-14T06:27:12.200705Z",
     "iopub.status.busy": "2022-03-14T06:27:12.199957Z",
     "iopub.status.idle": "2022-03-14T06:27:12.296836Z",
     "shell.execute_reply": "2022-03-14T06:27:12.297799Z",
     "shell.execute_reply.started": "2022-03-14T06:25:37.121698Z"
    },
    "papermill": {
     "duration": 0.176453,
     "end_time": "2022-03-14T06:27:12.298078",
     "exception": false,
     "start_time": "2022-03-14T06:27:12.121625",
     "status": "completed"
    },
    "tags": []
   },
   "outputs": [
    {
     "name": "stdout",
     "output_type": "stream",
     "text": [
      "0.7593335035750766\n",
      "0.07708991853427473\n"
     ]
    }
   ],
   "source": [
    "#10-fold cross validation, notice that I am giving X,y not X_train, y_train\n",
    "scores = cross_val_score(tree, X, y, cv=10, scoring='accuracy')\n",
    "mean_score = np.mean(scores)\n",
    "std_score = np.std(scores)\n",
    "print(mean_score)\n",
    "print(std_score)"
   ]
  },
  {
   "cell_type": "markdown",
   "metadata": {
    "papermill": {
     "duration": 0.072116,
     "end_time": "2022-03-14T06:27:12.443996",
     "exception": false,
     "start_time": "2022-03-14T06:27:12.371880",
     "status": "completed"
    },
    "tags": []
   },
   "source": [
    "## Random Forest"
   ]
  },
  {
   "cell_type": "code",
   "execution_count": 47,
   "metadata": {
    "execution": {
     "iopub.execute_input": "2022-03-14T06:27:12.592739Z",
     "iopub.status.busy": "2022-03-14T06:27:12.591967Z",
     "iopub.status.idle": "2022-03-14T06:27:12.623634Z",
     "shell.execute_reply": "2022-03-14T06:27:12.624211Z",
     "shell.execute_reply.started": "2022-03-14T06:25:37.219342Z"
    },
    "papermill": {
     "duration": 0.108082,
     "end_time": "2022-03-14T06:27:12.624442",
     "exception": false,
     "start_time": "2022-03-14T06:27:12.516360",
     "status": "completed"
    },
    "tags": []
   },
   "outputs": [],
   "source": [
    "from sklearn.ensemble import RandomForestClassifier\n",
    "import random"
   ]
  },
  {
   "cell_type": "code",
   "execution_count": 48,
   "metadata": {
    "execution": {
     "iopub.execute_input": "2022-03-14T06:27:12.777133Z",
     "iopub.status.busy": "2022-03-14T06:27:12.775947Z",
     "iopub.status.idle": "2022-03-14T06:27:12.783708Z",
     "shell.execute_reply": "2022-03-14T06:27:12.784358Z",
     "shell.execute_reply.started": "2022-03-14T06:25:37.224278Z"
    },
    "papermill": {
     "duration": 0.085621,
     "end_time": "2022-03-14T06:27:12.784566",
     "exception": false,
     "start_time": "2022-03-14T06:27:12.698945",
     "status": "completed"
    },
    "tags": []
   },
   "outputs": [
    {
     "data": {
      "text/plain": [
       "array([ 96, 173,  70,  86, 153, 143,  55,  87,  59, 176])"
      ]
     },
     "execution_count": 48,
     "metadata": {},
     "output_type": "execute_result"
    }
   ],
   "source": [
    "nest = np.array([random.randrange(50, 200) for iter in range(10)])\n",
    "nest"
   ]
  },
  {
   "cell_type": "code",
   "execution_count": 49,
   "metadata": {
    "execution": {
     "iopub.execute_input": "2022-03-14T06:27:12.936496Z",
     "iopub.status.busy": "2022-03-14T06:27:12.935430Z",
     "iopub.status.idle": "2022-03-14T06:27:12.940330Z",
     "shell.execute_reply": "2022-03-14T06:27:12.940945Z",
     "shell.execute_reply.started": "2022-03-14T06:25:37.239282Z"
    },
    "papermill": {
     "duration": 0.082944,
     "end_time": "2022-03-14T06:27:12.941127",
     "exception": false,
     "start_time": "2022-03-14T06:27:12.858183",
     "status": "completed"
    },
    "tags": []
   },
   "outputs": [],
   "source": [
    "mean_score = np.zeros(nest.shape[0])\n",
    "std_score = np.zeros(nest.shape[0])"
   ]
  },
  {
   "cell_type": "code",
   "execution_count": 50,
   "metadata": {
    "execution": {
     "iopub.execute_input": "2022-03-14T06:27:13.091089Z",
     "iopub.status.busy": "2022-03-14T06:27:13.089993Z",
     "iopub.status.idle": "2022-03-14T06:27:44.489744Z",
     "shell.execute_reply": "2022-03-14T06:27:44.490307Z",
     "shell.execute_reply.started": "2022-03-14T06:25:37.249126Z"
    },
    "papermill": {
     "duration": 31.476236,
     "end_time": "2022-03-14T06:27:44.490516",
     "exception": false,
     "start_time": "2022-03-14T06:27:13.014280",
     "status": "completed"
    },
    "tags": []
   },
   "outputs": [
    {
     "data": {
      "text/html": [
       "<div>\n",
       "<style scoped>\n",
       "    .dataframe tbody tr th:only-of-type {\n",
       "        vertical-align: middle;\n",
       "    }\n",
       "\n",
       "    .dataframe tbody tr th {\n",
       "        vertical-align: top;\n",
       "    }\n",
       "\n",
       "    .dataframe thead th {\n",
       "        text-align: right;\n",
       "    }\n",
       "</style>\n",
       "<table border=\"1\" class=\"dataframe\">\n",
       "  <thead>\n",
       "    <tr style=\"text-align: right;\">\n",
       "      <th></th>\n",
       "      <th>Estimators</th>\n",
       "      <th>Mean Accuracy</th>\n",
       "    </tr>\n",
       "  </thead>\n",
       "  <tbody>\n",
       "    <tr>\n",
       "      <th>0</th>\n",
       "      <td>96</td>\n",
       "      <td>0.807635</td>\n",
       "    </tr>\n",
       "    <tr>\n",
       "      <th>1</th>\n",
       "      <td>173</td>\n",
       "      <td>0.805363</td>\n",
       "    </tr>\n",
       "    <tr>\n",
       "      <th>2</th>\n",
       "      <td>70</td>\n",
       "      <td>0.808759</td>\n",
       "    </tr>\n",
       "    <tr>\n",
       "      <th>3</th>\n",
       "      <td>86</td>\n",
       "      <td>0.807623</td>\n",
       "    </tr>\n",
       "    <tr>\n",
       "      <th>4</th>\n",
       "      <td>153</td>\n",
       "      <td>0.806486</td>\n",
       "    </tr>\n",
       "    <tr>\n",
       "      <th>5</th>\n",
       "      <td>143</td>\n",
       "      <td>0.807623</td>\n",
       "    </tr>\n",
       "    <tr>\n",
       "      <th>6</th>\n",
       "      <td>55</td>\n",
       "      <td>0.809883</td>\n",
       "    </tr>\n",
       "    <tr>\n",
       "      <th>7</th>\n",
       "      <td>87</td>\n",
       "      <td>0.806499</td>\n",
       "    </tr>\n",
       "    <tr>\n",
       "      <th>8</th>\n",
       "      <td>59</td>\n",
       "      <td>0.808759</td>\n",
       "    </tr>\n",
       "    <tr>\n",
       "      <th>9</th>\n",
       "      <td>176</td>\n",
       "      <td>0.805363</td>\n",
       "    </tr>\n",
       "  </tbody>\n",
       "</table>\n",
       "</div>"
      ],
      "text/plain": [
       "   Estimators  Mean Accuracy\n",
       "0          96       0.807635\n",
       "1         173       0.805363\n",
       "2          70       0.808759\n",
       "3          86       0.807623\n",
       "4         153       0.806486\n",
       "5         143       0.807623\n",
       "6          55       0.809883\n",
       "7          87       0.806499\n",
       "8          59       0.808759\n",
       "9         176       0.805363"
      ]
     },
     "execution_count": 50,
     "metadata": {},
     "output_type": "execute_result"
    }
   ],
   "source": [
    "for i in range(nest.shape[0]):\n",
    "    forest = RandomForestClassifier(n_estimators= nest[i],criterion = 'entropy',max_depth=5,random_state=1)\n",
    "    forest.fit(TrainX,y_train)\n",
    "    scores = cross_val_score(forest, X, y, cv=10, scoring='accuracy')\n",
    "    mean_score[i] = np.mean(scores)\n",
    "df_final = pd.DataFrame({\"Estimators\":nest,\"Mean Accuracy\":mean_score})\n",
    "df_final"
   ]
  },
  {
   "cell_type": "code",
   "execution_count": 51,
   "metadata": {
    "execution": {
     "iopub.execute_input": "2022-03-14T06:27:44.643933Z",
     "iopub.status.busy": "2022-03-14T06:27:44.642777Z",
     "iopub.status.idle": "2022-03-14T06:27:49.209583Z",
     "shell.execute_reply": "2022-03-14T06:27:49.208960Z",
     "shell.execute_reply.started": "2022-03-14T06:26:00.006906Z"
    },
    "papermill": {
     "duration": 4.645608,
     "end_time": "2022-03-14T06:27:49.209752",
     "exception": false,
     "start_time": "2022-03-14T06:27:44.564144",
     "status": "completed"
    },
    "tags": []
   },
   "outputs": [
    {
     "name": "stdout",
     "output_type": "stream",
     "text": [
      "0.8053626149131767\n",
      "0.026913281305888718\n"
     ]
    }
   ],
   "source": [
    "#10-fold cross validation, notice that I am giving X,y not X_train, y_train\n",
    "scores = cross_val_score(forest, X, y, cv=10, scoring='accuracy')\n",
    "mean_score = np.mean(scores)\n",
    "std_score = np.std(scores)\n",
    "print(mean_score)\n",
    "print(std_score)"
   ]
  },
  {
   "cell_type": "markdown",
   "metadata": {
    "papermill": {
     "duration": 0.074628,
     "end_time": "2022-03-14T06:27:49.357954",
     "exception": false,
     "start_time": "2022-03-14T06:27:49.283326",
     "status": "completed"
    },
    "tags": []
   },
   "source": [
    "## Apply models to test data"
   ]
  },
  {
   "cell_type": "code",
   "execution_count": 52,
   "metadata": {
    "execution": {
     "iopub.execute_input": "2022-03-14T06:27:49.512576Z",
     "iopub.status.busy": "2022-03-14T06:27:49.511487Z",
     "iopub.status.idle": "2022-03-14T06:27:49.518718Z",
     "shell.execute_reply": "2022-03-14T06:27:49.519410Z",
     "shell.execute_reply.started": "2022-03-14T06:26:01.374662Z"
    },
    "papermill": {
     "duration": 0.086812,
     "end_time": "2022-03-14T06:27:49.519610",
     "exception": false,
     "start_time": "2022-03-14T06:27:49.432798",
     "status": "completed"
    },
    "tags": []
   },
   "outputs": [],
   "source": [
    "Xtest = Xtest[features]"
   ]
  },
  {
   "cell_type": "code",
   "execution_count": 53,
   "metadata": {
    "execution": {
     "iopub.execute_input": "2022-03-14T06:27:49.679482Z",
     "iopub.status.busy": "2022-03-14T06:27:49.678102Z",
     "iopub.status.idle": "2022-03-14T06:27:49.711025Z",
     "shell.execute_reply": "2022-03-14T06:27:49.711595Z",
     "shell.execute_reply.started": "2022-03-14T06:26:01.382452Z"
    },
    "papermill": {
     "duration": 0.115369,
     "end_time": "2022-03-14T06:27:49.711795",
     "exception": false,
     "start_time": "2022-03-14T06:27:49.596426",
     "status": "completed"
    },
    "tags": []
   },
   "outputs": [],
   "source": [
    "y_predict = forest.predict(np.array(Xtest))"
   ]
  },
  {
   "cell_type": "markdown",
   "metadata": {
    "papermill": {
     "duration": 0.073517,
     "end_time": "2022-03-14T06:27:49.860064",
     "exception": false,
     "start_time": "2022-03-14T06:27:49.786547",
     "status": "completed"
    },
    "tags": []
   },
   "source": [
    "# Create dataframe for submission"
   ]
  },
  {
   "cell_type": "code",
   "execution_count": 54,
   "metadata": {
    "execution": {
     "iopub.execute_input": "2022-03-14T06:27:50.011133Z",
     "iopub.status.busy": "2022-03-14T06:27:50.010423Z",
     "iopub.status.idle": "2022-03-14T06:27:50.027610Z",
     "shell.execute_reply": "2022-03-14T06:27:50.028275Z",
     "shell.execute_reply.started": "2022-03-14T06:26:28.471654Z"
    },
    "papermill": {
     "duration": 0.094853,
     "end_time": "2022-03-14T06:27:50.028475",
     "exception": false,
     "start_time": "2022-03-14T06:27:49.933622",
     "status": "completed"
    },
    "tags": []
   },
   "outputs": [
    {
     "data": {
      "text/html": [
       "<div>\n",
       "<style scoped>\n",
       "    .dataframe tbody tr th:only-of-type {\n",
       "        vertical-align: middle;\n",
       "    }\n",
       "\n",
       "    .dataframe tbody tr th {\n",
       "        vertical-align: top;\n",
       "    }\n",
       "\n",
       "    .dataframe thead th {\n",
       "        text-align: right;\n",
       "    }\n",
       "</style>\n",
       "<table border=\"1\" class=\"dataframe\">\n",
       "  <thead>\n",
       "    <tr style=\"text-align: right;\">\n",
       "      <th></th>\n",
       "      <th>PassengerId</th>\n",
       "      <th>Survived</th>\n",
       "    </tr>\n",
       "  </thead>\n",
       "  <tbody>\n",
       "    <tr>\n",
       "      <th>0</th>\n",
       "      <td>892</td>\n",
       "      <td>0</td>\n",
       "    </tr>\n",
       "    <tr>\n",
       "      <th>1</th>\n",
       "      <td>893</td>\n",
       "      <td>0</td>\n",
       "    </tr>\n",
       "    <tr>\n",
       "      <th>2</th>\n",
       "      <td>894</td>\n",
       "      <td>0</td>\n",
       "    </tr>\n",
       "    <tr>\n",
       "      <th>3</th>\n",
       "      <td>895</td>\n",
       "      <td>0</td>\n",
       "    </tr>\n",
       "    <tr>\n",
       "      <th>4</th>\n",
       "      <td>896</td>\n",
       "      <td>0</td>\n",
       "    </tr>\n",
       "    <tr>\n",
       "      <th>...</th>\n",
       "      <td>...</td>\n",
       "      <td>...</td>\n",
       "    </tr>\n",
       "    <tr>\n",
       "      <th>413</th>\n",
       "      <td>1305</td>\n",
       "      <td>0</td>\n",
       "    </tr>\n",
       "    <tr>\n",
       "      <th>414</th>\n",
       "      <td>1306</td>\n",
       "      <td>1</td>\n",
       "    </tr>\n",
       "    <tr>\n",
       "      <th>415</th>\n",
       "      <td>1307</td>\n",
       "      <td>0</td>\n",
       "    </tr>\n",
       "    <tr>\n",
       "      <th>416</th>\n",
       "      <td>1308</td>\n",
       "      <td>0</td>\n",
       "    </tr>\n",
       "    <tr>\n",
       "      <th>417</th>\n",
       "      <td>1309</td>\n",
       "      <td>0</td>\n",
       "    </tr>\n",
       "  </tbody>\n",
       "</table>\n",
       "<p>418 rows × 2 columns</p>\n",
       "</div>"
      ],
      "text/plain": [
       "     PassengerId  Survived\n",
       "0            892         0\n",
       "1            893         0\n",
       "2            894         0\n",
       "3            895         0\n",
       "4            896         0\n",
       "..           ...       ...\n",
       "413         1305         0\n",
       "414         1306         1\n",
       "415         1307         0\n",
       "416         1308         0\n",
       "417         1309         0\n",
       "\n",
       "[418 rows x 2 columns]"
      ]
     },
     "execution_count": 54,
     "metadata": {},
     "output_type": "execute_result"
    }
   ],
   "source": [
    "df = pd.DataFrame({\"PassengerId\":id_pass ,\"Survived\":y_predict})\n",
    "df.to_csv('my_submission5.csv', index=False)\n",
    "df"
   ]
  },
  {
   "cell_type": "code",
   "execution_count": null,
   "metadata": {
    "papermill": {
     "duration": 0.074037,
     "end_time": "2022-03-14T06:27:50.176772",
     "exception": false,
     "start_time": "2022-03-14T06:27:50.102735",
     "status": "completed"
    },
    "tags": []
   },
   "outputs": [],
   "source": []
  }
 ],
 "metadata": {
  "kernelspec": {
   "display_name": "Python 3",
   "language": "python",
   "name": "python3"
  },
  "language_info": {
   "codemirror_mode": {
    "name": "ipython",
    "version": 3
   },
   "file_extension": ".py",
   "mimetype": "text/x-python",
   "name": "python",
   "nbconvert_exporter": "python",
   "pygments_lexer": "ipython3",
   "version": "3.8.5"
  },
  "papermill": {
   "default_parameters": {},
   "duration": 62.643608,
   "end_time": "2022-03-14T06:27:51.067648",
   "environment_variables": {},
   "exception": null,
   "input_path": "__notebook__.ipynb",
   "output_path": "__notebook__.ipynb",
   "parameters": {},
   "start_time": "2022-03-14T06:26:48.424040",
   "version": "2.3.3"
  }
 },
 "nbformat": 4,
 "nbformat_minor": 5
}
